{
 "cells": [
  {
   "cell_type": "markdown",
   "metadata": {},
   "source": [
    "Avant de faire ce TP, il est important de créer un dossier dans lequel vous allez sauvegarder ce notebook"
   ]
  },
  {
   "cell_type": "markdown",
   "metadata": {},
   "source": [
    "## Carte sur folium"
   ]
  },
  {
   "cell_type": "markdown",
   "metadata": {},
   "source": [
    "### Une carte simple"
   ]
  },
  {
   "cell_type": "markdown",
   "metadata": {},
   "source": [
    "https://pixees.fr/informatiquelycee/n_site/snt_carto_osmPerso.html\n",
    "\n",
    "Nous allons utiliser les cartes proposées par Open Street Map et le langage Python afin de générer des cartes personnalisées. Plus exactement, nous allons utiliser une bibliothèque Python nommée Folium. Une bibliothèque Python permet de rajouter des fonctionnalités au langage de base. Folium va donc nous permettre de créer nos propres cartes à partir des cartes proposées par Open Street Map. \n",
    "\n",
    "\n",
    "1. Exécutez le code suivant"
   ]
  },
  {
   "cell_type": "code",
   "execution_count": null,
   "metadata": {},
   "outputs": [],
   "source": [
    "import folium\n",
    "c= folium.Map(location=[46.078025, 6.409053])\n",
    "c.save('maCarte.html')"
   ]
  },
  {
   "cell_type": "markdown",
   "metadata": {},
   "source": [
    "puis regardez dans le dossier, un nouveau fichier est apparu. Qu'est-ce qui a permi de créer ce fichier ? "
   ]
  },
  {
   "cell_type": "markdown",
   "metadata": {},
   "source": [
    "> la fonction save \"..html\" qui sauvegarde le résultat de c ! "
   ]
  },
  {
   "cell_type": "markdown",
   "metadata": {},
   "source": [
    "\n",
    "2. Double-cliquez sur ce nouveau fichier. Quel est le programme qui permet de l'ouvrir et pourquoi ?  "
   ]
  },
  {
   "cell_type": "markdown",
   "metadata": {},
   "source": [
    "> l'extension html s'ouvre avec un explorateur internet. "
   ]
  },
  {
   "cell_type": "markdown",
   "metadata": {},
   "source": [
    "Le fichier maCarte.html fait apparaître une une véritable carte et pas une simple image (il est possible de zoomer ou de se déplacer mais pour cela il faut une connexion à internet ! ). \n",
    "\n",
    "3. Sur quelle ville est-elle centrée ? Quelles sont ses coordonnées GPS ? Comment pouvez-vous relier ces coordonnées au programme ci-dessus ? "
   ]
  },
  {
   "cell_type": "markdown",
   "metadata": {},
   "source": [
    "> Bonne   Latitude/Longitude"
   ]
  },
  {
   "cell_type": "markdown",
   "metadata": {},
   "source": [
    "Le programme est simple à comprendre :\n",
    "\n",
    "La première ligne : \"import folium\" permet d'importer la bibliothèque folium afin de pouvoir l'utiliser.\n",
    "\n",
    "La deuxième ligne est le coeur de notre programme, nous définissons une variable \"c\" qui va contenir notre objet carte. \"folium.Map(location=[46.078025, 6.409053])\" génère cet objet carte, la carte sera centrée sur le point de latitude \"46.078025\" et de longitude \"6.409053\". Plus généralement nous avons \"folium.Map(location=[latitude, longitude])\". Il suffit donc de renseigner la bonne longitude et la bonne latitude pour que la carte soit centrée sur le point désiré.\n",
    "\n",
    "La dernière ligne permet de générer la page HTML qui va permettre d'afficher la carte.\n",
    "\n",
    "4. Quelles sont les coordonnées GPS de Lorient ? \n",
    "Créez une carte avec folium centrée sur Lorient (vous pouvez changer le nom de la carte).\n"
   ]
  },
  {
   "cell_type": "markdown",
   "metadata": {},
   "source": [
    "> Lorient (47.75, -3.3667)   Latitude/Longitude\n",
    "\n",
    "import folium\n",
    "c= folium.Map(location=[47.745, -3.667])\n",
    "c.save('maCarte.html')\n"
   ]
  },
  {
   "cell_type": "code",
   "execution_count": null,
   "metadata": {},
   "outputs": [],
   "source": [
    "import folium\n",
    "c= folium.Map(location=[47.7512, -3.3931])\n",
    "c.save('maCarte.html')\n"
   ]
  },
  {
   "cell_type": "markdown",
   "metadata": {},
   "source": [
    "5. Exécutez le programme suivant et ouvrez le fichier maCarte.html (ou alors rafraîchissez la page maCarte.hmtl dans votre nagivateur en appuyant sur F5)"
   ]
  },
  {
   "cell_type": "code",
   "execution_count": null,
   "metadata": {},
   "outputs": [],
   "source": [
    "import folium\n",
    "c= folium.Map(location=[47.7512, -3.3931],zoom_start=15)\n",
    "c.save('maCarte.html')"
   ]
  },
  {
   "cell_type": "markdown",
   "metadata": {},
   "source": [
    "6. Où se situe-t-on ? \n",
    "Que permet de faire le paramètre zoom_start ? (pour cela, changez sa valeur et réactualisez votre carte)"
   ]
  },
  {
   "cell_type": "markdown",
   "metadata": {},
   "source": [
    "> Lorient, au dessus du Lycée quasiment\n",
    "\n",
    "> zoom initial"
   ]
  },
  {
   "cell_type": "markdown",
   "metadata": {},
   "source": [
    "### Amélioration de la carte"
   ]
  },
  {
   "cell_type": "markdown",
   "metadata": {},
   "source": [
    "7. Saisissez et testez le programme ci-dessous "
   ]
  },
  {
   "cell_type": "code",
   "execution_count": null,
   "metadata": {},
   "outputs": [],
   "source": [
    "import folium\n",
    "c= folium.Map(location=[47.7512,-3.3931],zoom_start=20)\n",
    "folium.Marker([47.751,  -3.3924]).add_to(c)\n",
    "c.save('maCarte.html')"
   ]
  },
  {
   "cell_type": "markdown",
   "metadata": {},
   "source": [
    " Nous avons uniquement ajouté la ligne \"folium.Marker...\", il faut juste renseigner les coordonnées souhaitées (ici 47... pour la latitude et -3.3.. pour la longitude)\n",
    "\n",
    "Il est possible d'ajouter plusieurs marqueurs sur une même carte, il suffira d'ajouter autant de ligne \"folium.Marker([latitude, longitude]).add_to(c)\" que de marqueurs désirés.\n",
    "\n",
    "Il est possible d'associer une information à un marqueur en ajoutant le paramètre \"popup\" : \n",
    "\n",
    "8. Saisissez et testez le programme ci-dessous "
   ]
  },
  {
   "cell_type": "code",
   "execution_count": null,
   "metadata": {},
   "outputs": [],
   "source": [
    "import folium\n",
    "c= folium.Map(location=[47.7512,-3.3931],zoom_start=20)\n",
    "folium.Marker([47.751,  -3.3924],popup=\"Vous êtes ici ! \").add_to(c)\n",
    "c.save('maCarte.html')"
   ]
  },
  {
   "cell_type": "markdown",
   "metadata": {},
   "source": [
    "Il suffit de cliquer sur le marqueur pour que l'information définie par le paramètre \"popup\" apparaisse à l'écran (ici en cliquant sur le marqueur nous verrons donc apparaitre \"Vous êtes ici ! \"). "
   ]
  },
  {
   "cell_type": "markdown",
   "metadata": {},
   "source": [
    "## Lecture de fichier de données et affichage sur une carte via folium"
   ]
  },
  {
   "cell_type": "markdown",
   "metadata": {},
   "source": [
    "idées : \n",
    "https://pixees.fr/informatiquelycee/n_site/snt_carto.html"
   ]
  },
  {
   "cell_type": "markdown",
   "metadata": {},
   "source": [
    "### Création de votre propre carte ! \n",
    "\n",
    "On va commencer par créer un tableau qui va contenir les informations (longitude, latitude et description du lieu). \n",
    "\n",
    "1. Regardez l'algorithme suivant, en lisant les commentaires, et rajoutez quelques lieux (maison, piscine, ...)\n",
    "\n",
    "On pourra s'aider de sites comme https://www.gps-coordinates.net/ qui proposent une carte qui, en cliquant sur un point de la carte, nous propose les coordonnées GPS précises de ce lieu. "
   ]
  },
  {
   "cell_type": "code",
   "execution_count": 1,
   "metadata": {},
   "outputs": [],
   "source": [
    "import pandas as pd   #Pandas est une librairie qui permet de créer des tableaux de données\n",
    "\n",
    "# Création d'un tableau vide, ou plutôt une ligne vide, la ligne 0, avec 3 colonnes : \n",
    "donnees=pd.DataFrame(index=[0],columns={'Longitude','Latitude','Description'})  \n",
    "\n",
    "#Dans la première ligne, numéro 0, on va remplir les cases par des données\n",
    "donnees.at[donnees.index[0],'Latitude']=47.750908\n",
    "donnees.at[donnees.index[0],'Longitude']=-3.392328\n",
    "donnees.at[donnees.index[0],'Description']=\"Vous êtes ici ! \" \n",
    "\n",
    "#On rajoute une ligne en y accollant (on concatène) une nouvelle ligne\n",
    "donnees = pd.concat([donnees,pd.DataFrame(index=[1],columns={'Longitude','Latitude','Description'})],ignore_index=True)\n",
    "\n",
    "#Que l'on remplit par des données\n",
    "donnees.at[donnees.index[1],'Latitude']=47.750463\n",
    "donnees.at[donnees.index[1],'Longitude']=-3.392504\n",
    "donnees.at[donnees.index[1],'Description']=\"CDI\" \n",
    "\n",
    "#On peut ainsi créer notre propre tableau avec autant de lignes que l'on souhaite\n",
    "\n",
    "#On sauvegarde le tableau dans un fichier csv pour pouvoir l'envoyer aux amis par exemple\n",
    "donnees.to_csv(r'monfichier2.csv',index=True)\n"
   ]
  },
  {
   "cell_type": "markdown",
   "metadata": {},
   "source": [
    "2. Que signifie csv ? Où est le fichier monfichier2.csv ? "
   ]
  },
  {
   "cell_type": "markdown",
   "metadata": {},
   "source": [
    "> coma separated value : séparé par une virgue"
   ]
  },
  {
   "cell_type": "markdown",
   "metadata": {},
   "source": [
    "On va maintenant afficher sur la carte les lieux que vous avez signalés : "
   ]
  },
  {
   "cell_type": "code",
   "execution_count": 3,
   "metadata": {},
   "outputs": [],
   "source": [
    "import folium\n",
    "\n",
    "#On créé une carte, ici centrée sur le lycée\n",
    "c= folium.Map(location=[47.7512,-3.3931],zoom_start=20)\n",
    "\n",
    "\n",
    "for i in range(0,donnees.shape[0]): # à chaque ligne du tableau, on lit la Longitude, Latittude et Description, que l'on place aux bons endroits du marker.\n",
    "    folium.Marker([donnees.at[donnees.index[i],'Latitude'],donnees.at[donnees.index[i],'Longitude']],popup=donnees.at[donnees.index[i],'Description']).add_to(c)\n",
    "\n",
    "c.save('maCarte.html')"
   ]
  },
  {
   "cell_type": "code",
   "execution_count": 4,
   "metadata": {},
   "outputs": [],
   "source": [
    "del donnees  # si on ne supprime pas le tableau, on occupe inutilement un tableau dans la RAM de votre \n",
    "            #ordinateur, ce qui pourrait le ralentir si le tableau est immense"
   ]
  },
  {
   "cell_type": "markdown",
   "metadata": {},
   "source": [
    "3. Il est possible aussi de rajouter plus facilement des lieux. \n",
    "\n",
    "a) Pour cela, allez dans le répertoire où se situe le fichier monfichier2.csv, par un clic-droit, renommez-le en monfichier3.csv afin de sauvegarder ce que vous avez fait dans la question 1.  (Si vous ré-exécutez l'algo précédent alors que vous avez modifié le fichier monfichier2.csv autre part, alors ce fichier sera écrasé et remplacé par le fichier monfichier2.csv de l'algorithme)\n",
    "\n",
    "b) Ouvrez ce fichier monfichier2.csv avec un tableur comme LibreOffice, puis rajoutez des lieux directement dans le tableau. N'oubliez pas de sauvegarder votre fichier en gardant toujours le format csv ! \n",
    "\n",
    "\n",
    "\n",
    "4. Il faut maintenant que Python lise les détails de ce fichier, on va donc réutiliser la bibliothèque Pandas qui va prendre toutes les données du tableau du csv, et en faire un tableau identique sous Python : "
   ]
  },
  {
   "cell_type": "code",
   "execution_count": null,
   "metadata": {},
   "outputs": [],
   "source": [
    "import folium #pas obligé de le remettre si on continue l'algorithme précédent, mais bien si vous recommencez \n",
    "                # de zero avec seulement un fichier csv\n",
    "import pandas as pd  # idem \n",
    "\n",
    "data =pd.read_csv(r'monfichier3.csv')\n",
    "\n",
    "#On créé une carte, ici centrée sur le lycée\n",
    "c= folium.Map(location=[47.7512,-3.3931],zoom_start=20)\n",
    "\n",
    "\n",
    "for i in range(0,data.shape[0]): # à chaque ligne du tableau, on lit la Longitude, Latittude et Description, que l'on place aux bons endroits du marker.\n",
    "    folium.Marker([data.at[data.index[i],'Longitude'],data.at[data.index[i],'Latitude']],popup=data.at[data.index[i],'Description']).add_to(c)\n",
    "\n",
    "c.save('maCarte.html')"
   ]
  },
  {
   "cell_type": "markdown",
   "metadata": {},
   "source": [
    "### Exercice : positionnement des radars de France "
   ]
  },
  {
   "cell_type": "markdown",
   "metadata": {},
   "source": [
    "Après avoir téléchargé dans le bon dossier le fichier des radars au format csv https://www.data.gouv.fr/fr/datasets/radars-automatiques/ , créez une carte qui recense les radars (en 2018) sur le morbihan seulement ! \n",
    "\n",
    "On pourra ouvrir le fichier cvs dans LibreOffice et trier les départements en s'aidant de https://help.libreoffice.org/Common/Sort_Ascending/fr  "
   ]
  },
  {
   "cell_type": "markdown",
   "metadata": {},
   "source": [
    "> L'intérêt n'est pas vraiment dans le programme car il est déjà créé plus haut, mais dans la sélection des données sur LibreOffice, qui peut s'avérer un peu compliqué car il faut trier la colonne des départements, copier les lignes pour les 56, coller dans le même doc ou bien dans fichier différent, ne pas oublier de renommer les colonnes, ... "
   ]
  },
  {
   "cell_type": "code",
   "execution_count": null,
   "metadata": {},
   "outputs": [],
   "source": []
  }
 ],
 "metadata": {
  "kernelspec": {
   "display_name": "Python 3",
   "language": "python",
   "name": "python3"
  },
  "language_info": {
   "codemirror_mode": {
    "name": "ipython",
    "version": 3
   },
   "file_extension": ".py",
   "mimetype": "text/x-python",
   "name": "python",
   "nbconvert_exporter": "python",
   "pygments_lexer": "ipython3",
   "version": "3.7.4"
  },
  "latex_envs": {
   "LaTeX_envs_menu_present": true,
   "autoclose": false,
   "autocomplete": true,
   "bibliofile": "biblio.bib",
   "cite_by": "apalike",
   "current_citInitial": 1,
   "eqLabelWithNumbers": true,
   "eqNumInitial": 1,
   "hotkeys": {
    "equation": "Ctrl-E",
    "itemize": "Ctrl-I"
   },
   "labels_anchors": false,
   "latex_user_defs": false,
   "report_style_numbering": false,
   "user_envs_cfg": false
  },
  "toc": {
   "base_numbering": 1,
   "nav_menu": {},
   "number_sections": true,
   "sideBar": true,
   "skip_h1_title": false,
   "title_cell": "Table of Contents",
   "title_sidebar": "Contents",
   "toc_cell": false,
   "toc_position": {},
   "toc_section_display": true,
   "toc_window_display": false
  }
 },
 "nbformat": 4,
 "nbformat_minor": 2
}
